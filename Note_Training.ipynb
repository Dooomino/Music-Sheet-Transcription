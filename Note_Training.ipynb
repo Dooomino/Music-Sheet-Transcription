{
  "nbformat": 4,
  "nbformat_minor": 0,
  "metadata": {
    "colab": {
      "name": "Note Training.ipynb",
      "provenance": [],
      "collapsed_sections": [],
      "machine_shape": "hm"
    },
    "kernelspec": {
      "name": "python3",
      "display_name": "Python 3"
    },
    "language_info": {
      "name": "python"
    },
    "accelerator": "GPU"
  },
  "cells": [
    {
      "cell_type": "code",
      "metadata": {
        "id": "tQ-d6ReJoHNx"
      },
      "source": [
        "import warnings\n",
        "import librosa\n",
        "import pickle\n",
        "import IPython.display as ipd\n",
        "from librosa import display as libdis\n",
        "\n",
        "import numpy as np\n",
        "from matplotlib import pyplot as plt\n",
        "\n",
        "import tensorflow as tf \n",
        "import sklearn\n",
        "import pickle\n",
        "from tqdm import tqdm\n",
        "from time import sleep\n",
        "from tensorflow import keras\n",
        "from keras import Sequential\n",
        "\n",
        "from sklearn.metrics import accuracy_score, precision_score, recall_score\n",
        "from sklearn.model_selection import train_test_split\n",
        "from tensorflow.keras import layers, losses\n",
        "from tensorflow.keras.models import Model\n",
        "from tensorflow.keras.callbacks import LearningRateScheduler\n",
        "\n",
        "import os\n",
        "import gc"
      ],
      "execution_count": 1,
      "outputs": []
    },
    {
      "cell_type": "code",
      "metadata": {
        "colab": {
          "base_uri": "https://localhost:8080/"
        },
        "id": "BnFMxy-V8oZc",
        "outputId": "714d2b8a-0b86-47e2-8a16-305d06c13263"
      },
      "source": [
        "from google.colab import drive\n",
        "drive.mount('/content/drive')"
      ],
      "execution_count": 2,
      "outputs": [
        {
          "output_type": "stream",
          "name": "stdout",
          "text": [
            "Mounted at /content/drive\n"
          ]
        }
      ]
    },
    {
      "cell_type": "code",
      "metadata": {
        "id": "4YVmaca78lkR"
      },
      "source": [
        "audio_path = \"/content/drive/MyDrive/Colab Notebooks/Exp2_per-note_training/\""
      ],
      "execution_count": 3,
      "outputs": []
    },
    {
      "cell_type": "code",
      "metadata": {
        "colab": {
          "base_uri": "https://localhost:8080/"
        },
        "id": "fM4JEYMxoPe7",
        "outputId": "8600ef6a-b61d-4d29-b24e-5d302db9e5e4"
      },
      "source": [
        "try:\n",
        "  tpu_resolver = tf.distribute.cluster_resolver.TPUClusterResolver() # TPU detection\n",
        "except ValueError:\n",
        "  tpu_resolver = None\n",
        "  gpus = tf.config.experimental.list_logical_devices(\"GPU\")\n",
        "\n",
        "# Select appropriate distribution strategy\n",
        "if tpu_resolver:\n",
        "  tf.config.experimental_connect_to_cluster(tpu_resolver)\n",
        "  tf.tpu.experimental.initialize_tpu_system(tpu_resolver)\n",
        "  strategy = tf.distribute.experimental.TPUStrategy(tpu_resolver)\n",
        "  print('Running on TPU ', tpu_resolver.cluster_spec().as_dict()['worker'])\n",
        "elif len(gpus) > 1:\n",
        "  strategy = tf.distribute.MirroredStrategy([gpu.name for gpu in gpus])\n",
        "  print('Running on multiple GPUs ', [gpu.name for gpu in gpus])\n",
        "elif len(gpus) == 1:\n",
        "  strategy = tf.distribute.get_strategy() # default strategy that works on CPU and single GPU\n",
        "  print('Running on single GPU ', gpus[0].name)\n",
        "else:\n",
        "  strategy = tf.distribute.get_strategy() # default strategy that works on CPU and single GPU\n",
        "  print('Running on CPU')\n",
        "  \n",
        "print(\"Number of accelerators: \", strategy.num_replicas_in_sync)"
      ],
      "execution_count": 4,
      "outputs": [
        {
          "output_type": "stream",
          "name": "stdout",
          "text": [
            "Running on single GPU  /device:GPU:0\n",
            "Number of accelerators:  1\n"
          ]
        }
      ]
    },
    {
      "cell_type": "code",
      "metadata": {
        "id": "ZctwxSZiowWB"
      },
      "source": [
        "class Audiofile:\n",
        "  def __init__(self,x,sr,f,do_calc=False):\n",
        "    self.name = f\n",
        "    self.x = x\n",
        "    self.sr = sr\n",
        "    if do_calc:\n",
        "      self.stft = librosa.stft(x)\n",
        "      self.spect = librosa.amplitude_to_db(abs(self.stft))\n",
        "      self.mfccs = librosa.feature.mfcc(x, sr=sr)\n",
        "      self.zero_crossings = librosa.zero_crossings(x, pad=False)\n",
        "      self.sc = np.trim_zeros(librosa.feature.spectral_centroid(x, sr=sr)[0])\n",
        "      self.sc_norm = sklearn.preprocessing.minmax_scale(self.sc, axis=0)\n",
        "      frames = range(len(self.sc))\n",
        "      self.time = librosa.frames_to_time(frames)\n",
        "  \n",
        "  def getSpectrogram(self,min_size):\n",
        "    self.stft = librosa.stft(self.x[:min_size])\n",
        "    self.spect = librosa.amplitude_to_db(abs(self.stft))\n",
        "    return self.spect\n",
        "  \n",
        "  def getMfccs(self,min_size):\n",
        "    self.mfccs = librosa.feature.mfcc(self.x[:min_size], sr=self.sr, n_fft=1024)\n",
        "    return self.mfccs\n",
        "  \n",
        "  def getZerocrossings(self,min_size):\n",
        "    self.zero_crossings = librosa.zero_crossings(self.x[:min_size], pad=False)\n",
        "    return self.zero_crossings\n",
        "  \n",
        "  def getSpectralCentroid(self,min_size):\n",
        "    self.sc = np.trim_zeros(librosa.feature.spectral_centroid(self.x[:min_size], sr=self.sr)[0])\n",
        "    self.sc_norm = sklearn.preprocessing.minmax_scale(self.sc, axis=0)\n",
        "    frames = range(len(self.sc))\n",
        "    self.time = librosa.frames_to_time(frames)\n",
        "    return self.sc_norm\n"
      ],
      "execution_count": 5,
      "outputs": []
    },
    {
      "cell_type": "code",
      "metadata": {
        "id": "jL9ua4qLZZyy"
      },
      "source": [
        "# load the MIDI dataset \n",
        "f=open(audio_path+'all-notes.dat','rb')\n",
        "all_notes = pickle.load(f)\n"
      ],
      "execution_count": 6,
      "outputs": []
    },
    {
      "cell_type": "code",
      "metadata": {
        "id": "U2sesaQjZdE8"
      },
      "source": [
        "# use test data set \n",
        "# path = 'notes/'\n",
        "# file_list = os.listdir(path)\n"
      ],
      "execution_count": 7,
      "outputs": []
    },
    {
      "cell_type": "code",
      "metadata": {
        "colab": {
          "base_uri": "https://localhost:8080/"
        },
        "id": "W6RHgUZJo0S5",
        "outputId": "d2288087-5afc-408b-85d1-15cdb84bb361"
      },
      "source": [
        "gc.disable()\n",
        "warnings.filterwarnings('ignore')\n",
        "raw_audios = []  \n",
        "minshape = 999999999999999999999\n",
        "minindex = -1\n",
        "\n",
        "counter = 0\n",
        "# Use for load a smaller dataset: 'notes'\n",
        "# for i in tqdm(file_list):\n",
        "#   x , sr = librosa.load(path+i)\n",
        "#   if (not np.min(np.abs(x))-np.max(np.abs(x))==0):\n",
        "#     if x.shape[0]<minshape:\n",
        "#       minshape = x.shape[0]\n",
        "#       minindex = counter\n",
        "#     counter+=1 \n",
        "#     raw_audios.append(Audiofile(x,sr,i.split(\"_\")[0]))\n",
        "\n",
        "# Use for load a dataset from MIDI generator: all-notes.dat\n",
        "maxVol = 0\n",
        "for ind,x in enumerate(tqdm(all_notes)):\n",
        "  # if (np.max(np.abs(x[0]))-np.min(np.abs(x[0]))>8e-9):\n",
        "  #   # print(np.abs(np.min(x[0])-np.max(x[0])))\n",
        "  #   # print(ind,np.var(x[0]))\n",
        "  #   if np.max(np.abs(x[0]))>maxVol:\n",
        "  #     maxVol=np.max(np.abs(x[0]))\n",
        "  if x[0].shape[0]<minshape:\n",
        "    minshape = x[0].shape[0]\n",
        "    minindex = counter\n",
        "  counter+=1 \n",
        "  raw_audios.append(Audiofile(x[0],x[1],x[2]))\n",
        "warnings.filterwarnings('default')"
      ],
      "execution_count": 8,
      "outputs": [
        {
          "output_type": "stream",
          "name": "stderr",
          "text": [
            "100%|██████████| 3469/3469 [00:00<00:00, 349307.16it/s]\n"
          ]
        }
      ]
    },
    {
      "cell_type": "code",
      "metadata": {
        "colab": {
          "base_uri": "https://localhost:8080/"
        },
        "id": "YvtPXVuY3dif",
        "outputId": "81c400f4-8ca8-4886-a5bf-f34a25bb8874"
      },
      "source": [
        "len(raw_audios)"
      ],
      "execution_count": 9,
      "outputs": [
        {
          "output_type": "execute_result",
          "data": {
            "text/plain": [
              "3469"
            ]
          },
          "metadata": {},
          "execution_count": 9
        }
      ]
    },
    {
      "cell_type": "code",
      "metadata": {
        "colab": {
          "base_uri": "https://localhost:8080/",
          "height": 323
        },
        "id": "ZJDuLop2-QLs",
        "outputId": "991ea637-e635-4a7f-89ec-cf91aa7850a3"
      },
      "source": [
        "num= 110\n",
        "plt.plot(raw_audios[num].x)\n",
        "import IPython.display as ipd\n",
        "# ipd.Audio(split_list[0],rate=a.sr)\n",
        "ipd.Audio(raw_audios[num].x,rate=raw_audios[num].sr) "
      ],
      "execution_count": 10,
      "outputs": [
        {
          "output_type": "execute_result",
          "data": {
            "text/html": [
              "\n",
              "                <audio controls=\"controls\" >\n",
              "                    <source src=\"data:audio/wav;base64,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\" type=\"audio/wav\" />\n",
              "                    Your browser does not support the audio element.\n",
              "                </audio>\n",
              "              "
            ],
            "text/plain": [
              "<IPython.lib.display.Audio object>"
            ]
          },
          "metadata": {},
          "execution_count": 10
        },
        {
          "output_type": "display_data",
          "data": {
            "image/png": "[encoded data removed]",
            "text/plain": [
              "<Figure size 432x288 with 1 Axes>"
            ]
          },
          "metadata": {
            "needs_background": "light"
          }
        }
      ]
    },
    {
      "cell_type": "code",
      "metadata": {
        "id": "NDN9_LAt9gPU"
      },
      "source": [
        "ReadFromAudioFile=False"
      ],
      "execution_count": 11,
      "outputs": []
    },
    {
      "cell_type": "code",
      "metadata": {
        "colab": {
          "base_uri": "https://localhost:8080/"
        },
        "id": "2k0R7a_pt0Ri",
        "outputId": "d287bf4a-368c-4283-8e5c-5b8056ca8781"
      },
      "source": [
        "audios = []\n",
        "if not ReadFromAudioFile:\n",
        "  for i in tqdm(raw_audios):\n",
        "    # for i in raw_audios:\n",
        "    # start=0\n",
        "    # end=0 \n",
        "    # for ind,j in enumerate(i.x):\n",
        "    #   if abs(j) > 0.5:\n",
        "    #     start = ind\n",
        "    #     break\n",
        "    # for ind,j in enumerate(np.flip(i.x)):\n",
        "    #   if abs(j) >0.5:\n",
        "    #     end=ind\n",
        "    #     break\n",
        "        # print(t)\n",
        "    # print(j,start,end)\n",
        "    audios.append(Audiofile(i.x,i.sr,i.name))\n",
        "    # ReadFromAudioFile=True\n",
        "else:\n",
        "  f=open(audio_path+'trimed_audio.dat','rb')\n",
        "  audios=pickle.load(f)\n",
        "  f.close()\n",
        "gc.enable()"
      ],
      "execution_count": 12,
      "outputs": [
        {
          "output_type": "stream",
          "name": "stderr",
          "text": [
            "100%|██████████| 3469/3469 [00:00<00:00, 488272.78it/s]\n"
          ]
        }
      ]
    },
    {
      "cell_type": "code",
      "metadata": {
        "colab": {
          "base_uri": "https://localhost:8080/"
        },
        "id": "-dW4_4S_-MEk",
        "outputId": "786a7b37-07e8-4585-afdf-f54e574192c8"
      },
      "source": [
        "audios[0].x"
      ],
      "execution_count": 13,
      "outputs": [
        {
          "output_type": "execute_result",
          "data": {
            "text/plain": [
              "array([-6.4142409e-06, -8.5608972e-06,  3.9067635e-07, ...,\n",
              "        3.1139108e-03,  1.0958064e-03,  1.6523225e-03], dtype=float32)"
            ]
          },
          "metadata": {},
          "execution_count": 13
        }
      ]
    },
    {
      "cell_type": "code",
      "metadata": {
        "id": "8IZZzpIw9H6A"
      },
      "source": [
        "with open(audio_path+'trimed_audio.dat','wb') as f:\n",
        "  pickle.dump(audios,f)"
      ],
      "execution_count": 14,
      "outputs": []
    },
    {
      "cell_type": "code",
      "metadata": {
        "colab": {
          "base_uri": "https://localhost:8080/"
        },
        "id": "pRnMXkK20lNk",
        "outputId": "7b7564fe-daa6-4c9d-e4df-d06ac51606e9"
      },
      "source": [
        "len(audios)"
      ],
      "execution_count": 15,
      "outputs": [
        {
          "output_type": "execute_result",
          "data": {
            "text/plain": [
              "3469"
            ]
          },
          "metadata": {},
          "execution_count": 15
        }
      ]
    },
    {
      "cell_type": "code",
      "metadata": {
        "colab": {
          "base_uri": "https://localhost:8080/"
        },
        "id": "BIg_6PTz-KgW",
        "outputId": "2e4b4d4a-408a-4b24-852e-e0acf5145b13"
      },
      "source": [
        "l=[]\n",
        "for i in audios:\n",
        "  l.append(i.x.shape[0])\n",
        "minshape=np.min(l)\n",
        "for ind, x in enumerate(tqdm(audios)):\n",
        "  audios[ind].x = audios[ind].x[:minshape]\n"
      ],
      "execution_count": 16,
      "outputs": [
        {
          "output_type": "stream",
          "name": "stderr",
          "text": [
            "100%|██████████| 3469/3469 [00:00<00:00, 546111.20it/s]\n"
          ]
        }
      ]
    },
    {
      "cell_type": "code",
      "metadata": {
        "colab": {
          "base_uri": "https://localhost:8080/"
        },
        "id": "Qk3uq-q1__vr",
        "outputId": "9ddc178d-88b6-4b38-b764-118b06acf022"
      },
      "source": [
        "audios[0].x.shape,len(audios)"
      ],
      "execution_count": 17,
      "outputs": [
        {
          "output_type": "execute_result",
          "data": {
            "text/plain": [
              "((11429,), 3469)"
            ]
          },
          "metadata": {},
          "execution_count": 17
        }
      ]
    },
    {
      "cell_type": "code",
      "metadata": {
        "id": "pi-0vhgYw13J"
      },
      "source": [
        "notes=[]\n",
        "note_sym = []\n",
        "for i in audios:\n",
        "  note=i.name\n",
        "  notes.append(note)\n",
        "  if not note in note_sym:\n",
        "    note_sym.append(note)\n",
        "\n",
        "# for i in range(len(notes)):\n",
        "#   notes[i] = i"
      ],
      "execution_count": 18,
      "outputs": []
    },
    {
      "cell_type": "code",
      "metadata": {
        "id": "1Dx9kkUN9MqF",
        "colab": {
          "base_uri": "https://localhost:8080/"
        },
        "outputId": "09a32379-4a5e-41c6-db77-ac01d8ce1d0c"
      },
      "source": [
        "len(notes),len(note_sym)"
      ],
      "execution_count": 19,
      "outputs": [
        {
          "output_type": "execute_result",
          "data": {
            "text/plain": [
              "(3469, 58)"
            ]
          },
          "metadata": {},
          "execution_count": 19
        }
      ]
    },
    {
      "cell_type": "code",
      "metadata": {
        "id": "l8QwSAwyxKkq",
        "colab": {
          "base_uri": "https://localhost:8080/"
        },
        "outputId": "4aedf59a-e628-442d-f76d-3cfabc203c34"
      },
      "source": [
        "xlist = []\n",
        "dup_xlist=[]\n",
        "times = 1\n",
        "for i,j in zip(audios,notes):\n",
        "  xlist.append([i,j])\n",
        "\n",
        "for i in range(times):\n",
        "  for j in xlist:\n",
        "    dup_xlist.append([j[0],j[1]])\n",
        "dup_xlist = np.array(dup_xlist)\n",
        "dup_xlist.shape"
      ],
      "execution_count": 20,
      "outputs": [
        {
          "output_type": "stream",
          "name": "stderr",
          "text": [
            "/usr/local/lib/python3.7/dist-packages/ipykernel_launcher.py:10: VisibleDeprecationWarning: Creating an ndarray from ragged nested sequences (which is a list-or-tuple of lists-or-tuples-or ndarrays with different lengths or shapes) is deprecated. If you meant to do this, you must specify 'dtype=object' when creating the ndarray\n",
            "  # Remove the CWD from sys.path while we load stuff.\n"
          ]
        },
        {
          "output_type": "execute_result",
          "data": {
            "text/plain": [
              "(3469, 2)"
            ]
          },
          "metadata": {},
          "execution_count": 20
        }
      ]
    },
    {
      "cell_type": "code",
      "metadata": {
        "id": "-fxxBtQA1bbA"
      },
      "source": [
        "readData = False"
      ],
      "execution_count": 21,
      "outputs": []
    },
    {
      "cell_type": "code",
      "metadata": {
        "colab": {
          "base_uri": "https://localhost:8080/"
        },
        "id": "4wm3BKC0rU5K",
        "outputId": "9a2f3920-161d-4273-88f2-456956eba1b7"
      },
      "source": [
        "cut = len(dup_xlist)*2//10\n",
        "x_train=[]\n",
        "y_train=[]\n",
        "x_val=[]\n",
        "y_val=[]\n",
        "\n",
        "if not readData:\n",
        "  for i in tqdm(dup_xlist[cut:]):\n",
        "    x_train.append(i[0].getMfccs(minshape))\n",
        "    y_train.append(i[1])\n",
        "\n",
        "  for i in tqdm(dup_xlist[:cut]):\n",
        "    x_val.append(i[0].getMfccs(minshape))\n",
        "    y_val.append(i[1])\n",
        "\n",
        "  x_train = np.array(x_train)\n",
        "  y_train = np.array(y_train)\n",
        "  x_val = np.array(x_val)\n",
        "  y_val = np.array(y_val)\n",
        "\n",
        "  with open('trains.dat','wb') as ft, open('vals.dat','wb') as fv:\n",
        "    pickle.dump([x_train,y_train],ft)\n",
        "    pickle.dump([x_val,y_val],fv)\n",
        "    ft.close()\n",
        "    fv.close()\n",
        "  readData = True\n",
        "else:\n",
        "  ft=open('trains.dat','rb')\n",
        "  fv=open('vals.dat','rb')\n",
        "  x_train,y_train = pickle.load(ft)\n",
        "  x_val,y_val = pickle.load(fv)\n",
        "  ft.close()\n",
        "  fv.close()"
      ],
      "execution_count": 22,
      "outputs": [
        {
          "output_type": "stream",
          "name": "stderr",
          "text": [
            "100%|██████████| 2776/2776 [00:16<00:00, 169.95it/s]\n",
            "100%|██████████| 693/693 [00:04<00:00, 172.47it/s]\n"
          ]
        }
      ]
    },
    {
      "cell_type": "code",
      "source": [
        "plt.imshow(x_train[0],cmap='inferno')"
      ],
      "metadata": {
        "colab": {
          "base_uri": "https://localhost:8080/",
          "height": 282
        },
        "id": "RYRjuScTOMp6",
        "outputId": "b38074d8-a072-4f9a-af0c-46fbfc36ce0b"
      },
      "execution_count": 23,
      "outputs": [
        {
          "output_type": "execute_result",
          "data": {
            "text/plain": [
              "<matplotlib.image.AxesImage at 0x7f4cf821ec90>"
            ]
          },
          "metadata": {},
          "execution_count": 23
        },
        {
          "output_type": "display_data",
          "data": {
            "image/png": "[encoded data removed]",
            "text/plain": [
              "<Figure size 432x288 with 1 Axes>"
            ]
          },
          "metadata": {
            "needs_background": "light"
          }
        }
      ]
    },
    {
      "cell_type": "code",
      "metadata": {
        "id": "MtSaOhM0s7tQ",
        "colab": {
          "base_uri": "https://localhost:8080/"
        },
        "outputId": "f16c3d9b-5342-474c-996d-960da40cfa1e"
      },
      "source": [
        "print(x_train.shape,y_train.shape)\n",
        "print(x_val.shape,y_val.shape)"
      ],
      "execution_count": 24,
      "outputs": [
        {
          "output_type": "stream",
          "name": "stdout",
          "text": [
            "(2776, 20, 23) (2776, 1)\n",
            "(693, 20, 23) (693, 1)\n"
          ]
        }
      ]
    },
    {
      "cell_type": "code",
      "metadata": {
        "colab": {
          "base_uri": "https://localhost:8080/"
        },
        "id": "Dah5C-Y9tk38",
        "outputId": "572a0a5e-d76b-4833-9661-e09c3a0686db"
      },
      "source": [
        "with strategy.scope():\n",
        "  model = Sequential([\n",
        "      layers.Reshape((x_train.shape[1],x_train.shape[2],1)),\n",
        "      layers.Conv2D(256,kernel_size=(2,2),activation='relu',name='conv1'),\n",
        "      layers.Dropout(0.25),\n",
        "      layers.Conv2D(256,kernel_size=(2,2),activation='relu',name='conv2'),\n",
        "      layers.Dropout(0.25),\n",
        "      # layers.Conv2D(32,kernel_size=(2,2),activation='relu',name='conv2'),\n",
        "      # layers.Conv2D(32,kernel_size=(2,2),activation='relu',name='conv3'),\n",
        "      layers.Flatten(),\n",
        "      layers.Dense(2048,activation='relu'),\n",
        "      layers.Dropout(0.25),\n",
        "      layers.Dense(1024,activation='relu'),\n",
        "      layers.Dense(512,activation='relu'),\n",
        "      layers.Dense(60,activation='softmax')\n",
        "  ])\n",
        "  model.build(x_train.shape)\n",
        "  model.compile(optimizer='adam', loss=losses.SparseCategoricalCrossentropy(),metrics=['acc'])\n",
        "  model.summary()"
      ],
      "execution_count": 26,
      "outputs": [
        {
          "output_type": "stream",
          "name": "stdout",
          "text": [
            "Model: \"sequential_1\"\n",
            "_________________________________________________________________\n",
            " Layer (type)                Output Shape              Param #   \n",
            "=================================================================\n",
            " reshape_1 (Reshape)         (2776, 20, 23, 1)         0         \n",
            "                                                                 \n",
            " conv1 (Conv2D)              (2776, 19, 22, 256)       1280      \n",
            "                                                                 \n",
            " dropout_3 (Dropout)         (2776, 19, 22, 256)       0         \n",
            "                                                                 \n",
            " conv2 (Conv2D)              (2776, 18, 21, 256)       262400    \n",
            "                                                                 \n",
            " dropout_4 (Dropout)         (2776, 18, 21, 256)       0         \n",
            "                                                                 \n",
            " flatten_1 (Flatten)         (2776, 96768)             0         \n",
            "                                                                 \n",
            " dense_4 (Dense)             (2776, 2048)              198182912 \n",
            "                                                                 \n",
            " dense_5 (Dense)             (2776, 1024)              2098176   \n",
            "                                                                 \n",
            " dropout_5 (Dropout)         (2776, 1024)              0         \n",
            "                                                                 \n",
            " dense_6 (Dense)             (2776, 512)               524800    \n",
            "                                                                 \n",
            " dense_7 (Dense)             (2776, 60)                30780     \n",
            "                                                                 \n",
            "=================================================================\n",
            "Total params: 201,100,348\n",
            "Trainable params: 201,100,348\n",
            "Non-trainable params: 0\n",
            "_________________________________________________________________\n"
          ]
        }
      ]
    },
    {
      "cell_type": "code",
      "source": [
        "load_Model = True"
      ],
      "metadata": {
        "id": "5EptRMcwd-G7"
      },
      "execution_count": null,
      "outputs": []
    },
    {
      "cell_type": "code",
      "metadata": {
        "id": "M2-H0slY8LDU"
      },
      "source": [
        "load_Model = False"
      ],
      "execution_count": null,
      "outputs": []
    },
    {
      "cell_type": "code",
      "metadata": {
        "colab": {
          "base_uri": "https://localhost:8080/"
        },
        "id": "JUpfwhtouVmM",
        "outputId": "f6fce7c8-071c-4168-c34d-b79593a5a196"
      },
      "source": [
        "if not load_Model:\n",
        "  hist = model.fit(x_train,y_train,\n",
        "            epochs=80,\n",
        "            shuffle=True,\n",
        "            validation_data=(x_val, y_val))\n",
        "  from zipfile import ZipFile\n",
        "  model.save(\"A-so-called-good-model\")      \n",
        "  with ZipFile('zip_model.zip','w') as zipf:\n",
        "    for file_name in os.listdir('A-so-called-good-model'):\n",
        "            print(file_name)\n",
        "            zipf.write('A-so-called-good-model/'+file_name)\n",
        "  load_Model = True\n",
        "else:\n",
        "  model = keras.models.load_model('A-so-called-good-model')"
      ],
      "execution_count": null,
      "outputs": [
        {
          "output_type": "stream",
          "name": "stdout",
          "text": [
            "Epoch 1/80\n",
            "87/87 [==============================] - 12s 35ms/step - loss: 6.8508 - acc: 0.2226 - val_loss: 2.8444 - val_acc: 0.2987\n",
            "Epoch 2/80\n",
            "87/87 [==============================] - 3s 31ms/step - loss: 1.8085 - acc: 0.4683 - val_loss: 2.8417 - val_acc: 0.3810\n",
            "Epoch 3/80\n",
            "87/87 [==============================] - 3s 31ms/step - loss: 1.5981 - acc: 0.5249 - val_loss: 2.6897 - val_acc: 0.3694\n",
            "Epoch 4/80\n",
            "87/87 [==============================] - 3s 31ms/step - loss: 1.4146 - acc: 0.5666 - val_loss: 2.9114 - val_acc: 0.3882\n",
            "Epoch 5/80\n",
            "87/87 [==============================] - 3s 31ms/step - loss: 1.2513 - acc: 0.6048 - val_loss: 2.8378 - val_acc: 0.4199\n",
            "Epoch 6/80\n",
            "87/87 [==============================] - 3s 31ms/step - loss: 1.0395 - acc: 0.6729 - val_loss: 3.1932 - val_acc: 0.4300\n",
            "Epoch 7/80\n",
            "87/87 [==============================] - 3s 31ms/step - loss: 0.8190 - acc: 0.7453 - val_loss: 2.8528 - val_acc: 0.4935\n",
            "Epoch 8/80\n",
            "87/87 [==============================] - 3s 31ms/step - loss: 0.5762 - acc: 0.8188 - val_loss: 3.5720 - val_acc: 0.4848\n",
            "Epoch 9/80\n",
            "87/87 [==============================] - 3s 31ms/step - loss: 0.4311 - acc: 0.8631 - val_loss: 3.7248 - val_acc: 0.5108\n",
            "Epoch 10/80\n",
            "87/87 [==============================] - 3s 31ms/step - loss: 0.3045 - acc: 0.9103 - val_loss: 3.9428 - val_acc: 0.5065\n",
            "Epoch 11/80\n",
            "87/87 [==============================] - 3s 31ms/step - loss: 0.2949 - acc: 0.9215 - val_loss: 3.7699 - val_acc: 0.5152\n",
            "Epoch 12/80\n",
            "87/87 [==============================] - 3s 31ms/step - loss: 0.2519 - acc: 0.9388 - val_loss: 3.7580 - val_acc: 0.5253\n",
            "Epoch 13/80\n",
            "87/87 [==============================] - 3s 31ms/step - loss: 0.1889 - acc: 0.9496 - val_loss: 4.3783 - val_acc: 0.5325\n",
            "Epoch 14/80\n",
            "87/87 [==============================] - 3s 31ms/step - loss: 0.1901 - acc: 0.9561 - val_loss: 4.3080 - val_acc: 0.5325\n",
            "Epoch 15/80\n",
            "87/87 [==============================] - 3s 31ms/step - loss: 0.1338 - acc: 0.9676 - val_loss: 3.9694 - val_acc: 0.5195\n",
            "Epoch 16/80\n",
            "87/87 [==============================] - 3s 31ms/step - loss: 0.1043 - acc: 0.9719 - val_loss: 4.3045 - val_acc: 0.5108\n",
            "Epoch 17/80\n",
            "87/87 [==============================] - 3s 31ms/step - loss: 0.1544 - acc: 0.9643 - val_loss: 4.8467 - val_acc: 0.5065\n",
            "Epoch 18/80\n",
            "87/87 [==============================] - 3s 31ms/step - loss: 0.1447 - acc: 0.9640 - val_loss: 4.3829 - val_acc: 0.5079\n",
            "Epoch 19/80\n",
            "87/87 [==============================] - 3s 31ms/step - loss: 0.1029 - acc: 0.9730 - val_loss: 4.1918 - val_acc: 0.5152\n",
            "Epoch 20/80\n",
            "87/87 [==============================] - 3s 31ms/step - loss: 0.0876 - acc: 0.9787 - val_loss: 5.3165 - val_acc: 0.5079\n",
            "Epoch 21/80\n",
            "87/87 [==============================] - 3s 31ms/step - loss: 0.0869 - acc: 0.9784 - val_loss: 4.6448 - val_acc: 0.5079\n",
            "Epoch 22/80\n",
            "87/87 [==============================] - 3s 31ms/step - loss: 0.0798 - acc: 0.9845 - val_loss: 5.3234 - val_acc: 0.5036\n",
            "Epoch 23/80\n",
            "87/87 [==============================] - 3s 32ms/step - loss: 0.0864 - acc: 0.9838 - val_loss: 4.9687 - val_acc: 0.4949\n",
            "Epoch 24/80\n",
            "87/87 [==============================] - 3s 31ms/step - loss: 0.0747 - acc: 0.9820 - val_loss: 5.0160 - val_acc: 0.4863\n",
            "Epoch 25/80\n",
            "87/87 [==============================] - 3s 31ms/step - loss: 0.0908 - acc: 0.9791 - val_loss: 4.6795 - val_acc: 0.5108\n",
            "Epoch 26/80\n",
            "87/87 [==============================] - 3s 31ms/step - loss: 0.0975 - acc: 0.9759 - val_loss: 4.8175 - val_acc: 0.4993\n",
            "Epoch 27/80\n",
            "87/87 [==============================] - 3s 31ms/step - loss: 0.0494 - acc: 0.9888 - val_loss: 5.1036 - val_acc: 0.4935\n",
            "Epoch 28/80\n",
            "87/87 [==============================] - 3s 31ms/step - loss: 0.1551 - acc: 0.9726 - val_loss: 4.7371 - val_acc: 0.5022\n",
            "Epoch 29/80\n",
            "87/87 [==============================] - 3s 31ms/step - loss: 0.1071 - acc: 0.9759 - val_loss: 4.6930 - val_acc: 0.4892\n",
            "Epoch 30/80\n",
            "87/87 [==============================] - 3s 31ms/step - loss: 0.1173 - acc: 0.9769 - val_loss: 5.4528 - val_acc: 0.4921\n",
            "Epoch 31/80\n",
            "87/87 [==============================] - 3s 31ms/step - loss: 0.1986 - acc: 0.9633 - val_loss: 5.2258 - val_acc: 0.4704\n",
            "Epoch 32/80\n",
            "87/87 [==============================] - 3s 31ms/step - loss: 0.1400 - acc: 0.9723 - val_loss: 4.6125 - val_acc: 0.4877\n",
            "Epoch 33/80\n",
            "87/87 [==============================] - 3s 31ms/step - loss: 0.0939 - acc: 0.9845 - val_loss: 4.6638 - val_acc: 0.4921\n",
            "Epoch 34/80\n",
            "87/87 [==============================] - 3s 31ms/step - loss: 0.0617 - acc: 0.9885 - val_loss: 4.4233 - val_acc: 0.4906\n",
            "Epoch 35/80\n",
            "87/87 [==============================] - 3s 31ms/step - loss: 0.0438 - acc: 0.9914 - val_loss: 4.9547 - val_acc: 0.4993\n",
            "Epoch 36/80\n",
            "87/87 [==============================] - 3s 31ms/step - loss: 0.0220 - acc: 0.9928 - val_loss: 5.0019 - val_acc: 0.5036\n",
            "Epoch 37/80\n",
            "87/87 [==============================] - 3s 31ms/step - loss: 0.0790 - acc: 0.9831 - val_loss: 4.9845 - val_acc: 0.5051\n",
            "Epoch 38/80\n",
            "87/87 [==============================] - 3s 31ms/step - loss: 0.0705 - acc: 0.9885 - val_loss: 5.0709 - val_acc: 0.4877\n",
            "Epoch 39/80\n",
            "87/87 [==============================] - 3s 31ms/step - loss: 0.0807 - acc: 0.9784 - val_loss: 5.1403 - val_acc: 0.5123\n",
            "Epoch 40/80\n",
            "87/87 [==============================] - 3s 31ms/step - loss: 0.0992 - acc: 0.9759 - val_loss: 6.0650 - val_acc: 0.4618\n",
            "Epoch 41/80\n",
            "87/87 [==============================] - 3s 31ms/step - loss: 0.0783 - acc: 0.9841 - val_loss: 5.2900 - val_acc: 0.4993\n",
            "Epoch 42/80\n",
            "87/87 [==============================] - 3s 31ms/step - loss: 0.0914 - acc: 0.9827 - val_loss: 5.5558 - val_acc: 0.4690\n",
            "Epoch 43/80\n",
            "87/87 [==============================] - 3s 31ms/step - loss: 0.0833 - acc: 0.9820 - val_loss: 5.8862 - val_acc: 0.4805\n",
            "Epoch 44/80\n",
            "87/87 [==============================] - 3s 31ms/step - loss: 0.1169 - acc: 0.9773 - val_loss: 5.3738 - val_acc: 0.4762\n",
            "Epoch 45/80\n",
            "87/87 [==============================] - 3s 31ms/step - loss: 0.0538 - acc: 0.9878 - val_loss: 5.1315 - val_acc: 0.4848\n",
            "Epoch 46/80\n",
            "87/87 [==============================] - 3s 31ms/step - loss: 0.0647 - acc: 0.9881 - val_loss: 5.2914 - val_acc: 0.4820\n",
            "Epoch 47/80\n",
            "87/87 [==============================] - 3s 31ms/step - loss: 0.0289 - acc: 0.9946 - val_loss: 5.7328 - val_acc: 0.5022\n",
            "Epoch 48/80\n",
            "87/87 [==============================] - 3s 31ms/step - loss: 0.0914 - acc: 0.9820 - val_loss: 5.8130 - val_acc: 0.4877\n",
            "Epoch 49/80\n",
            "87/87 [==============================] - 3s 31ms/step - loss: 0.0569 - acc: 0.9874 - val_loss: 5.8997 - val_acc: 0.5123\n",
            "Epoch 50/80\n",
            "87/87 [==============================] - 3s 31ms/step - loss: 0.0672 - acc: 0.9870 - val_loss: 5.5350 - val_acc: 0.5123\n",
            "Epoch 51/80\n",
            "87/87 [==============================] - 3s 31ms/step - loss: 0.1149 - acc: 0.9827 - val_loss: 4.9874 - val_acc: 0.5007\n",
            "Epoch 52/80\n",
            "87/87 [==============================] - 3s 31ms/step - loss: 0.0777 - acc: 0.9841 - val_loss: 4.9664 - val_acc: 0.5209\n",
            "Epoch 53/80\n",
            "87/87 [==============================] - 3s 31ms/step - loss: 0.0836 - acc: 0.9849 - val_loss: 6.3567 - val_acc: 0.4747\n",
            "Epoch 54/80\n",
            "87/87 [==============================] - 3s 31ms/step - loss: 0.1156 - acc: 0.9834 - val_loss: 5.3999 - val_acc: 0.4820\n",
            "Epoch 55/80\n",
            "87/87 [==============================] - 3s 31ms/step - loss: 0.0369 - acc: 0.9921 - val_loss: 6.0168 - val_acc: 0.5007\n",
            "Epoch 56/80\n",
            "87/87 [==============================] - 3s 31ms/step - loss: 0.0507 - acc: 0.9921 - val_loss: 5.7447 - val_acc: 0.4704\n",
            "Epoch 57/80\n",
            "87/87 [==============================] - 3s 31ms/step - loss: 0.0631 - acc: 0.9878 - val_loss: 5.3033 - val_acc: 0.5036\n",
            "Epoch 58/80\n",
            "87/87 [==============================] - 3s 31ms/step - loss: 0.0558 - acc: 0.9921 - val_loss: 5.9117 - val_acc: 0.4877\n",
            "Epoch 59/80\n",
            "87/87 [==============================] - 3s 31ms/step - loss: 0.0786 - acc: 0.9852 - val_loss: 6.2403 - val_acc: 0.4863\n",
            "Epoch 60/80\n",
            "87/87 [==============================] - 3s 31ms/step - loss: 0.0703 - acc: 0.9874 - val_loss: 6.0416 - val_acc: 0.4820\n",
            "Epoch 61/80\n",
            "87/87 [==============================] - 3s 32ms/step - loss: 0.0473 - acc: 0.9888 - val_loss: 6.3848 - val_acc: 0.4863\n",
            "Epoch 62/80\n",
            "87/87 [==============================] - 3s 31ms/step - loss: 0.0936 - acc: 0.9867 - val_loss: 5.3453 - val_acc: 0.4834\n",
            "Epoch 63/80\n",
            "87/87 [==============================] - 3s 31ms/step - loss: 0.0300 - acc: 0.9946 - val_loss: 6.4289 - val_acc: 0.4820\n",
            "Epoch 64/80\n",
            "87/87 [==============================] - 3s 31ms/step - loss: 0.0232 - acc: 0.9939 - val_loss: 6.4983 - val_acc: 0.4820\n",
            "Epoch 65/80\n",
            "87/87 [==============================] - 3s 31ms/step - loss: 0.0713 - acc: 0.9856 - val_loss: 5.8566 - val_acc: 0.4704\n",
            "Epoch 66/80\n",
            "87/87 [==============================] - 3s 31ms/step - loss: 0.1161 - acc: 0.9759 - val_loss: 6.9296 - val_acc: 0.4834\n",
            "Epoch 67/80\n",
            "87/87 [==============================] - 3s 31ms/step - loss: 0.0999 - acc: 0.9838 - val_loss: 7.7106 - val_acc: 0.4776\n",
            "Epoch 68/80\n",
            "87/87 [==============================] - 3s 31ms/step - loss: 0.1311 - acc: 0.9823 - val_loss: 6.4782 - val_acc: 0.4820\n",
            "Epoch 69/80\n",
            "87/87 [==============================] - 3s 31ms/step - loss: 0.1355 - acc: 0.9805 - val_loss: 6.0003 - val_acc: 0.4834\n",
            "Epoch 70/80\n",
            "87/87 [==============================] - 3s 31ms/step - loss: 0.1295 - acc: 0.9834 - val_loss: 6.7098 - val_acc: 0.4993\n",
            "Epoch 71/80\n",
            "87/87 [==============================] - 3s 31ms/step - loss: 0.1076 - acc: 0.9841 - val_loss: 7.3260 - val_acc: 0.4618\n",
            "Epoch 72/80\n",
            "87/87 [==============================] - 3s 31ms/step - loss: 0.0679 - acc: 0.9896 - val_loss: 8.2982 - val_acc: 0.4776\n",
            "Epoch 73/80\n",
            "87/87 [==============================] - 3s 31ms/step - loss: 0.0746 - acc: 0.9892 - val_loss: 6.7827 - val_acc: 0.4848\n",
            "Epoch 74/80\n",
            "87/87 [==============================] - 3s 31ms/step - loss: 0.0242 - acc: 0.9960 - val_loss: 7.2867 - val_acc: 0.4877\n",
            "Epoch 75/80\n",
            "87/87 [==============================] - 3s 31ms/step - loss: 0.1972 - acc: 0.9795 - val_loss: 6.9961 - val_acc: 0.4935\n",
            "Epoch 76/80\n",
            "87/87 [==============================] - 3s 31ms/step - loss: 0.1950 - acc: 0.9795 - val_loss: 6.5639 - val_acc: 0.4603\n",
            "Epoch 77/80\n",
            "87/87 [==============================] - 3s 31ms/step - loss: 0.1357 - acc: 0.9759 - val_loss: 6.2789 - val_acc: 0.4661\n",
            "Epoch 78/80\n",
            "87/87 [==============================] - 3s 31ms/step - loss: 0.0341 - acc: 0.9906 - val_loss: 7.3076 - val_acc: 0.4834\n",
            "Epoch 79/80\n",
            "87/87 [==============================] - 3s 31ms/step - loss: 0.0307 - acc: 0.9935 - val_loss: 7.7043 - val_acc: 0.4848\n",
            "Epoch 80/80\n",
            "87/87 [==============================] - 3s 31ms/step - loss: 0.1309 - acc: 0.9863 - val_loss: 7.1931 - val_acc: 0.4675\n",
            "INFO:tensorflow:Assets written to: /content/drive/MyDrive/Colab Notebooks/Exp2_per-note_training/A-so-called-good-model/assets\n",
            "variables\n",
            "assets\n",
            "keras_metadata.pb\n",
            "saved_model.pb\n"
          ]
        }
      ]
    },
    {
      "cell_type": "code",
      "metadata": {
        "colab": {
          "base_uri": "https://localhost:8080/",
          "height": 513
        },
        "id": "dzyIJn0U7gYK",
        "outputId": "b59e676c-b1e8-4914-eee4-32f0fbcb4085"
      },
      "source": [
        "loss = hist.history['loss']\n",
        "val_loss = hist.history['val_loss']\n",
        "plt.plot(loss[1:],'r')\n",
        "plt.plot(val_loss[1:],'b')\n",
        "plt.legend(['loss','val_loss'])\n",
        "plt.show()\n",
        "\n",
        "acc = hist.history['acc']\n",
        "val_acc = hist.history['val_acc']\n",
        "plt.plot(acc[1:],'r')\n",
        "plt.plot(val_acc[1:],'b')\n",
        "plt.legend(['acc','val_acc'])\n",
        "plt.show()\n"
      ],
      "execution_count": null,
      "outputs": [
        {
          "output_type": "display_data",
          "data": {
            "image/png": "[encoded data removed]",
            "text/plain": [
              "<Figure size 432x288 with 1 Axes>"
            ]
          },
          "metadata": {
            "needs_background": "light"
          }
        },
        {
          "output_type": "display_data",
          "data": {
            "image/png": "[encoded data removed]",
            "text/plain": [
              "<Figure size 432x288 with 1 Axes>"
            ]
          },
          "metadata": {
            "needs_background": "light"
          }
        }
      ]
    },
    {
      "cell_type": "code",
      "metadata": {
        "id": "vR8UnYHoFCgs"
      },
      "source": [
        ""
      ],
      "execution_count": null,
      "outputs": []
    },
    {
      "cell_type": "code",
      "metadata": {
        "id": "e_YIvQYN9sFL"
      },
      "source": [
        "test_file = \"a#-1_98.wav\"\n",
        "x , sr = librosa.load(path+test_file)\n",
        "a = Audiofile(x,sr,test_file.split(\"_\")[0])\n",
        "x_test = a.getMfccs(minshape)\n",
        "print(x_test.shape)\n",
        "plt.imshow(x_test)\n",
        "plt.show()\n",
        "\n",
        "\n",
        "x_test = np.array(x_test).reshape((1,x_test.shape[0],x_test.shape[1]))\n",
        "res = model.predict(x_test)\n",
        "\n"
      ],
      "execution_count": null,
      "outputs": []
    },
    {
      "cell_type": "code",
      "metadata": {
        "colab": {
          "base_uri": "https://localhost:8080/",
          "height": 75
        },
        "id": "FqT3KIhsJ1_B",
        "outputId": "c04dc3c3-c3a8-402b-b875-81bcd18647c7"
      },
      "source": [
        "import IPython.display as ipd\n",
        "# ipd.Audio(split_list[0],rate=a.sr)\n",
        "ipd.Audio(audios[2].x,rate=audios[2].sr) "
      ],
      "execution_count": null,
      "outputs": [
        {
          "output_type": "execute_result",
          "data": {
            "text/html": [
              "\n",
              "                <audio controls=\"controls\" >\n",
              "                    <source src=\"data:audio/wav;base64,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\" type=\"audio/wav\" />\n",
              "                    Your browser does not support the audio element.\n",
              "                </audio>\n",
              "              "
            ],
            "text/plain": [
              "<IPython.lib.display.Audio object>"
            ]
          },
          "metadata": {},
          "execution_count": 37
        }
      ]
    },
    {
      "cell_type": "code",
      "metadata": {
        "colab": {
          "base_uri": "https://localhost:8080/"
        },
        "id": "Y6GdT6TyG6MC",
        "outputId": "7df8b100-fddc-4552-d965-f19093fdee30"
      },
      "source": [
        "from scipy import signal\n",
        "# test_wav = \"Walts_of_flowers.wav\"\n",
        "test_wav = \"Canon-in-C.mp3\"\n",
        "x , sr = librosa.load(test_wav)\n",
        "x=np.array(x)\n",
        "\n",
        "peaks = signal.find_peaks(x,height=0)\n",
        "# maximums = signal.argrelextrema(x, np.greater)\n",
        "# maximums = maximums[0]\n",
        "# # maxis = [i for i in maximums if x[i] > 0.2]\n",
        "# cqt = np.abs(librosa.cqt(x, sr=sr, fmin=librosa.note_to_hz('C2'),\n",
        "#                 n_bins=60 * 2, bins_per_octave=12 * 2))\n",
        "onset_env = librosa.onset.onset_strength(x, sr=sr)\n",
        "tempo1 = librosa.beat.tempo(onset_envelope=onset_env, sr=sr)[0]\n",
        "lx = []\n",
        "for i in audios[:100]:\n",
        "  lx=[*lx,*i.x]\n",
        "lx=np.array(lx)\n",
        "onset_env = librosa.onset.onset_strength(lx, sr=audios[0].sr,)\n",
        "tempo2 = librosa.beat.tempo(onset_envelope=onset_env, sr=audios[0].sr)[0]\n",
        "\n",
        "# plt.imshow(cqt)\n",
        "# plt.plot(x)\n",
        "# plt.plot(maxis,x[maxis],'x')\n",
        "# peaks = peaks[0]\n",
        "# plt.plot(peaks,x[peaks],'x')\n",
        "# plt.show()\n",
        "print(tempo1,tempo2)\n",
        "print(tempo1/tempo2)\n",
        "# cqt"
      ],
      "execution_count": null,
      "outputs": [
        {
          "output_type": "stream",
          "name": "stderr",
          "text": [
            "/usr/local/lib/python3.7/dist-packages/librosa/core/audio.py:165: UserWarning: PySoundFile failed. Trying audioread instead.\n",
            "  warnings.warn(\"PySoundFile failed. Trying audioread instead.\")\n",
            "/usr/local/lib/python3.7/dist-packages/audioread/__init__.py:86: ResourceWarning: unclosed file <_io.BufferedReader name=83>\n",
            "  if ffdec.available():\n",
            "ResourceWarning: Enable tracemalloc to get the object allocation traceback\n",
            "/usr/local/lib/python3.7/dist-packages/audioread/__init__.py:86: ResourceWarning: unclosed file <_io.BufferedReader name=85>\n",
            "  if ffdec.available():\n",
            "ResourceWarning: Enable tracemalloc to get the object allocation traceback\n"
          ]
        },
        {
          "output_type": "stream",
          "name": "stdout",
          "text": [
            "143.5546875 123.046875\n",
            "1.1666666666666667\n"
          ]
        }
      ]
    },
    {
      "cell_type": "code",
      "source": [
        "ReadMFCC = False\n",
        "# ReadMFCC = True"
      ],
      "metadata": {
        "id": "AXCuP7H1dwaG"
      },
      "execution_count": null,
      "outputs": []
    },
    {
      "cell_type": "code",
      "metadata": {
        "colab": {
          "base_uri": "https://localhost:8080/"
        },
        "id": "oCKWybEmK8PO",
        "outputId": "a7ddc6a0-cc7c-4ac3-b11f-5be4018b47f7"
      },
      "source": [
        "if not ReadMFCC:\n",
        "  with strategy.scope():\n",
        "    # test_wav = \"Walts_of_flowers.wav\"\n",
        "    # x , sr = librosa.load(test_wav)\n",
        "    if tempo1<=tempo2:\n",
        "      x_slow = librosa.effects.time_stretch(x,tempo1/tempo2)\n",
        "    else:\n",
        "      x_slow = librosa.effects.time_stretch(x,tempo2/tempo1)\n",
        "    a = Audiofile(x_slow,sr,\"test\") \n",
        "    # a = Audiofile(x,sr,\"Walts_of_flowers.wav\") \n",
        "\n",
        "    # chips =  a.x.shape[0]//s.x.shape[0]\n",
        "    mfs=[]\n",
        "    slide = minshape\n",
        "    step_size = 100\n",
        "    for i in tqdm(range(0,len(a.x),step_size)):#len(a.x)):\n",
        "      if i+slide<=len(a.x):\n",
        "        samp = a.x[i:i+slide]\n",
        "        mf = Audiofile(samp,a.sr,str(i)).getMfccs(minshape)\n",
        "        mfs.append(mf)\n",
        "      # conf = model.predict(mf) \n",
        "\n",
        "    # confs.append([np.max(conf),note_sym[np.argmax(conf)]])\n",
        "    mfs = np.array(mfs)\n",
        "else:\n",
        "  with open(audio_path+'mfs.dat','rb') as f:\n",
        "    mfs = pickle.load(f)"
      ],
      "execution_count": null,
      "outputs": [
        {
          "output_type": "stream",
          "name": "stderr",
          "text": [
            "100%|██████████| 80879/80879 [32:22<00:00, 41.63it/s]\n"
          ]
        }
      ]
    },
    {
      "cell_type": "code",
      "source": [
        "mfs.shape"
      ],
      "metadata": {
        "colab": {
          "base_uri": "https://localhost:8080/"
        },
        "id": "ovLR_zscv2zY",
        "outputId": "a45f48b3-48f6-4214-c2f3-6ff522563b96"
      },
      "execution_count": null,
      "outputs": [
        {
          "output_type": "execute_result",
          "data": {
            "text/plain": [
              "(80765, 20, 23)"
            ]
          },
          "metadata": {},
          "execution_count": 42
        }
      ]
    },
    {
      "cell_type": "code",
      "source": [
        "with open(audio_path+'mfs.dat','wb') as f:\n",
        "  pickle.dump(mfs,f)\n",
        "  f.close() "
      ],
      "metadata": {
        "id": "9Iho1JAew_Wb"
      },
      "execution_count": null,
      "outputs": []
    },
    {
      "cell_type": "code",
      "source": [
        "ac = model.predict(mfs)"
      ],
      "metadata": {
        "colab": {
          "base_uri": "https://localhost:8080/",
          "height": 165
        },
        "id": "nHsdahB45-v2",
        "outputId": "7c771fc6-7cb5-4646-b2d2-742a2827a3ae"
      },
      "execution_count": null,
      "outputs": [
        {
          "output_type": "error",
          "ename": "AttributeError",
          "evalue": "ignored",
          "traceback": [
            "\u001b[0;31m---------------------------------------------------------------------------\u001b[0m",
            "\u001b[0;31mAttributeError\u001b[0m                            Traceback (most recent call last)",
            "\u001b[0;32m<ipython-input-54-8351f2a72a0f>\u001b[0m in \u001b[0;36m<module>\u001b[0;34m()\u001b[0m\n\u001b[0;32m----> 1\u001b[0;31m \u001b[0mac\u001b[0m \u001b[0;34m=\u001b[0m \u001b[0mmodel\u001b[0m\u001b[0;34m.\u001b[0m\u001b[0mpredict_classes\u001b[0m\u001b[0;34m(\u001b[0m\u001b[0mmfs\u001b[0m\u001b[0;34m)\u001b[0m\u001b[0;34m\u001b[0m\u001b[0;34m\u001b[0m\u001b[0m\n\u001b[0m",
            "\u001b[0;31mAttributeError\u001b[0m: 'Sequential' object has no attribute 'predict_classes'"
          ]
        }
      ]
    },
    {
      "cell_type": "code",
      "source": [
        "ac.shape"
      ],
      "metadata": {
        "colab": {
          "base_uri": "https://localhost:8080/"
        },
        "id": "Tld7xM9Z79OZ",
        "outputId": "b9765969-b790-4624-d541-38c3681820c1"
      },
      "execution_count": null,
      "outputs": [
        {
          "output_type": "execute_result",
          "data": {
            "text/plain": [
              "(80765, 128)"
            ]
          },
          "metadata": {},
          "execution_count": 53
        }
      ]
    },
    {
      "cell_type": "code",
      "metadata": {
        "colab": {
          "base_uri": "https://localhost:8080/",
          "height": 235
        },
        "id": "oB7XbOHiS3xv",
        "outputId": "8d39988c-5a57-428c-aea1-29abcd66b65d"
      },
      "source": [
        "confs=[]\n",
        "for i in ac:\n",
        "  if i[np.argmax(i)] >=0.99:\n",
        "    confs.append(note_sym[np.argmax(i)-1])\n",
        "# len(confs)"
      ],
      "execution_count": null,
      "outputs": [
        {
          "output_type": "error",
          "ename": "IndexError",
          "evalue": "ignored",
          "traceback": [
            "\u001b[0;31m---------------------------------------------------------------------------\u001b[0m",
            "\u001b[0;31mIndexError\u001b[0m                                Traceback (most recent call last)",
            "\u001b[0;32m<ipython-input-49-7672b675bbef>\u001b[0m in \u001b[0;36m<module>\u001b[0;34m()\u001b[0m\n\u001b[1;32m      4\u001b[0m   \u001b[0;32mfor\u001b[0m \u001b[0mi\u001b[0m \u001b[0;32min\u001b[0m \u001b[0mac\u001b[0m\u001b[0;34m:\u001b[0m\u001b[0;34m\u001b[0m\u001b[0;34m\u001b[0m\u001b[0m\n\u001b[1;32m      5\u001b[0m     \u001b[0;32mif\u001b[0m \u001b[0mi\u001b[0m\u001b[0;34m[\u001b[0m\u001b[0mnp\u001b[0m\u001b[0;34m.\u001b[0m\u001b[0margmax\u001b[0m\u001b[0;34m(\u001b[0m\u001b[0mi\u001b[0m\u001b[0;34m)\u001b[0m\u001b[0;34m]\u001b[0m \u001b[0;34m>=\u001b[0m\u001b[0;36m0.99\u001b[0m\u001b[0;34m:\u001b[0m\u001b[0;34m\u001b[0m\u001b[0;34m\u001b[0m\u001b[0m\n\u001b[0;32m----> 6\u001b[0;31m       \u001b[0mconfs\u001b[0m\u001b[0;34m.\u001b[0m\u001b[0mappend\u001b[0m\u001b[0;34m(\u001b[0m\u001b[0mnote_sym\u001b[0m\u001b[0;34m[\u001b[0m\u001b[0mnp\u001b[0m\u001b[0;34m.\u001b[0m\u001b[0margmax\u001b[0m\u001b[0;34m(\u001b[0m\u001b[0mi\u001b[0m\u001b[0;34m)\u001b[0m\u001b[0;34m-\u001b[0m\u001b[0;36m1\u001b[0m\u001b[0;34m]\u001b[0m\u001b[0;34m)\u001b[0m\u001b[0;34m\u001b[0m\u001b[0;34m\u001b[0m\u001b[0m\n\u001b[0m\u001b[1;32m      7\u001b[0m \u001b[0;31m# len(confs)\u001b[0m\u001b[0;34m\u001b[0m\u001b[0;34m\u001b[0m\u001b[0;34m\u001b[0m\u001b[0m\n\u001b[1;32m      8\u001b[0m \u001b[0mac\u001b[0m\u001b[0;34m\u001b[0m\u001b[0;34m\u001b[0m\u001b[0m\n",
            "\u001b[0;31mIndexError\u001b[0m: list index out of range"
          ]
        }
      ]
    },
    {
      "cell_type": "code",
      "metadata": {
        "id": "2t0jpTFzNfHU"
      },
      "source": [
        "midi_note= []\n",
        "for i in confs:\n",
        "  midi_note.append(librosa.note_to_midi(i))\n",
        "\n",
        "import csv \n",
        "\n",
        "with open(\"out.csv\",'w',newline='') as f:\n",
        "  cf = csv.writer(f)\n",
        "  cf.writerows([midi_note])\n",
        "f.close()"
      ],
      "execution_count": null,
      "outputs": []
    }
  ]
}